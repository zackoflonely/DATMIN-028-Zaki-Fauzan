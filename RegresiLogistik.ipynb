{
  "nbformat": 4,
  "nbformat_minor": 0,
  "metadata": {
    "colab": {
      "provenance": [],
      "authorship_tag": "ABX9TyMXLTE+JCOlyCumQzUkjSTD",
      "include_colab_link": true
    },
    "kernelspec": {
      "name": "python3",
      "display_name": "Python 3"
    },
    "language_info": {
      "name": "python"
    }
  },
  "cells": [
    {
      "cell_type": "markdown",
      "metadata": {
        "id": "view-in-github",
        "colab_type": "text"
      },
      "source": [
        "<a href=\"https://colab.research.google.com/github/zackoflonely/DATMIN-028-Zaki-Fauzan/blob/main/RegresiLogistik.ipynb\" target=\"_parent\"><img src=\"https://colab.research.google.com/assets/colab-badge.svg\" alt=\"Open In Colab\"/></a>"
      ]
    },
    {
      "cell_type": "markdown",
      "source": [
        "## REGRESI LOGISTIK\n",
        "NIM : 2109116028\n",
        "NAMA : ZAKI FAUZAN RABBANI\n",
        "KELAS : A 2021"
      ],
      "metadata": {
        "id": "IlIodzsBzAvv"
      }
    },
    {
      "cell_type": "markdown",
      "source": [
        "###Tujuan Bisnis\n",
        "Tujuan bisnis dari dataset ini adalah untuk menganalisis faktor-faktor yang mempengaruhi keberhasilan kelulusan mahasiswa berdasarkan nilai IPK mereka.\n",
        "Tujuan lainnya adalah untuk meningkatkan pemahaman tentang profil mahasiswa yang memiliki tingkat kelulusan yang tinggi dan mengidentifikasi faktor-faktor yang dapat mempengaruhi kelulusan mereka."
      ],
      "metadata": {
        "id": "UIJhBbVSFSfm"
      }
    },
    {
      "cell_type": "markdown",
      "source": [
        "###Assess Situation\n",
        "Situasi bisnis yang mendasari analisis ini adalah pentingnya memahami faktor-faktor yang dapat mempengaruhi kelulusan mahasiswa. Faktor-faktor tersebut dapat mencakup tingkat kehadiran, usaha belajar, keterlibatan dalam kegiatan ekstrakurikuler, dan sebagainya."
      ],
      "metadata": {
        "id": "jViGdmPqFWvI"
      }
    },
    {
      "cell_type": "markdown",
      "source": [
        "###Data Mining Goals\n",
        "Tujuan dari Data Mining pada dataset ini adalah untuk memprediksi tingkat kelulusan mahasiswa berdasarkan nilai IPK mereka. Selain itu, analisis ini bertujuan untuk mengidentifikasi faktor-faktor yang paling berpengaruh terhadap kelulusan mahasiswa dan memberikan wawasan tentang profil mahasiswa yang memiliki tingkat kelulusan yang tinggi."
      ],
      "metadata": {
        "id": "i1moBspHFbm9"
      }
    },
    {
      "cell_type": "code",
      "execution_count": 164,
      "metadata": {
        "id": "6vYAEqZAy590"
      },
      "outputs": [],
      "source": [
        "#Import Library yang diperlukan\n",
        "\n",
        "from sklearn.linear_model import LogisticRegression\n",
        "from sklearn.model_selection import train_test_split\n",
        "from sklearn.metrics import accuracy_score, precision_score, recall_score, f1_score, classification_report, roc_auc_score, confusion_matrix, roc_curve\n",
        "import numpy as np\n",
        "from tabulate import tabulate\n",
        "from sklearn.metrics import roc_auc_score,roc_curve,confusion_matrix,ConfusionMatrixDisplay"
      ]
    },
    {
      "cell_type": "code",
      "source": [
        "# Menentukan jumlah baris dan kolom data dummy\n",
        "num_samples = 100\n",
        "num_features = 1\n",
        "\n",
        "# Membuat data dummy acak berupa nilai IPK\n",
        "np.random.seed(50)  # Menentukan untuk hasil yang dapat direproduksi\n",
        "mean = 3.5  # Nilai rata-rata IPK\n",
        "std_dev = 0.5  # Standar deviasi IPK\n",
        "X = np.random.normal(mean, std_dev, (num_samples, num_features))\n",
        "X = np.clip(X, 0.0, 4.0)  # Memastikan nilai IPK tidak melebihi 4.0\n",
        "y = np.random.randint(2, size=num_samples)\n",
        "\n",
        "# Menampilkan data dummy\n",
        "print(\"Data Dummy IPK Mahasiswa:\")\n",
        "for i in range(num_samples):\n",
        "    print(\"Data {}: IPK = {:.2f}, Label = {}\".format(i+1, X[i][0], y[i]))"
      ],
      "metadata": {
        "colab": {
          "base_uri": "https://localhost:8080/"
        },
        "id": "H5j7J20Uwctx",
        "outputId": "8fdd0d8f-ecac-4e25-89a7-7a5bc47ffb5d"
      },
      "execution_count": 165,
      "outputs": [
        {
          "output_type": "stream",
          "name": "stdout",
          "text": [
            "Data Dummy IPK Mahasiswa:\n",
            "Data 1: IPK = 2.72, Label = 1\n",
            "Data 2: IPK = 3.48, Label = 1\n",
            "Data 3: IPK = 3.19, Label = 0\n",
            "Data 4: IPK = 2.77, Label = 0\n",
            "Data 5: IPK = 4.00, Label = 0\n",
            "Data 6: IPK = 3.26, Label = 1\n",
            "Data 7: IPK = 3.11, Label = 0\n",
            "Data 8: IPK = 4.00, Label = 1\n",
            "Data 9: IPK = 2.86, Label = 1\n",
            "Data 10: IPK = 2.84, Label = 1\n",
            "Data 11: IPK = 3.56, Label = 1\n",
            "Data 12: IPK = 3.93, Label = 1\n",
            "Data 13: IPK = 3.85, Label = 0\n",
            "Data 14: IPK = 3.33, Label = 0\n",
            "Data 15: IPK = 3.00, Label = 1\n",
            "Data 16: IPK = 4.00, Label = 1\n",
            "Data 17: IPK = 4.00, Label = 1\n",
            "Data 18: IPK = 3.99, Label = 0\n",
            "Data 19: IPK = 3.56, Label = 1\n",
            "Data 20: IPK = 3.87, Label = 1\n",
            "Data 21: IPK = 3.30, Label = 1\n",
            "Data 22: IPK = 3.57, Label = 0\n",
            "Data 23: IPK = 3.29, Label = 0\n",
            "Data 24: IPK = 3.42, Label = 1\n",
            "Data 25: IPK = 3.57, Label = 0\n",
            "Data 26: IPK = 3.64, Label = 0\n",
            "Data 27: IPK = 3.36, Label = 0\n",
            "Data 28: IPK = 4.00, Label = 0\n",
            "Data 29: IPK = 3.43, Label = 0\n",
            "Data 30: IPK = 3.85, Label = 0\n",
            "Data 31: IPK = 4.00, Label = 1\n",
            "Data 32: IPK = 4.00, Label = 1\n",
            "Data 33: IPK = 2.82, Label = 0\n",
            "Data 34: IPK = 3.74, Label = 0\n",
            "Data 35: IPK = 3.88, Label = 1\n",
            "Data 36: IPK = 3.68, Label = 1\n",
            "Data 37: IPK = 3.34, Label = 0\n",
            "Data 38: IPK = 4.00, Label = 0\n",
            "Data 39: IPK = 3.19, Label = 0\n",
            "Data 40: IPK = 3.69, Label = 0\n",
            "Data 41: IPK = 3.40, Label = 0\n",
            "Data 42: IPK = 3.87, Label = 0\n",
            "Data 43: IPK = 3.93, Label = 0\n",
            "Data 44: IPK = 2.75, Label = 0\n",
            "Data 45: IPK = 2.67, Label = 0\n",
            "Data 46: IPK = 3.39, Label = 1\n",
            "Data 47: IPK = 3.32, Label = 0\n",
            "Data 48: IPK = 3.69, Label = 1\n",
            "Data 49: IPK = 3.84, Label = 0\n",
            "Data 50: IPK = 2.92, Label = 0\n",
            "Data 51: IPK = 3.10, Label = 1\n",
            "Data 52: IPK = 3.48, Label = 1\n",
            "Data 53: IPK = 4.00, Label = 1\n",
            "Data 54: IPK = 2.75, Label = 1\n",
            "Data 55: IPK = 3.55, Label = 0\n",
            "Data 56: IPK = 3.76, Label = 1\n",
            "Data 57: IPK = 3.91, Label = 1\n",
            "Data 58: IPK = 3.53, Label = 0\n",
            "Data 59: IPK = 3.42, Label = 0\n",
            "Data 60: IPK = 3.64, Label = 1\n",
            "Data 61: IPK = 3.54, Label = 1\n",
            "Data 62: IPK = 3.52, Label = 1\n",
            "Data 63: IPK = 3.87, Label = 0\n",
            "Data 64: IPK = 3.03, Label = 1\n",
            "Data 65: IPK = 3.38, Label = 1\n",
            "Data 66: IPK = 4.00, Label = 1\n",
            "Data 67: IPK = 3.52, Label = 0\n",
            "Data 68: IPK = 3.39, Label = 1\n",
            "Data 69: IPK = 3.05, Label = 0\n",
            "Data 70: IPK = 3.36, Label = 1\n",
            "Data 71: IPK = 3.61, Label = 1\n",
            "Data 72: IPK = 3.63, Label = 0\n",
            "Data 73: IPK = 3.85, Label = 0\n",
            "Data 74: IPK = 3.75, Label = 1\n",
            "Data 75: IPK = 4.00, Label = 1\n",
            "Data 76: IPK = 3.21, Label = 1\n",
            "Data 77: IPK = 4.00, Label = 1\n",
            "Data 78: IPK = 4.00, Label = 1\n",
            "Data 79: IPK = 3.90, Label = 0\n",
            "Data 80: IPK = 2.71, Label = 0\n",
            "Data 81: IPK = 4.00, Label = 0\n",
            "Data 82: IPK = 2.31, Label = 0\n",
            "Data 83: IPK = 3.48, Label = 1\n",
            "Data 84: IPK = 1.60, Label = 0\n",
            "Data 85: IPK = 3.40, Label = 0\n",
            "Data 86: IPK = 3.68, Label = 1\n",
            "Data 87: IPK = 3.47, Label = 1\n",
            "Data 88: IPK = 3.18, Label = 1\n",
            "Data 89: IPK = 3.32, Label = 1\n",
            "Data 90: IPK = 2.21, Label = 0\n",
            "Data 91: IPK = 3.57, Label = 1\n",
            "Data 92: IPK = 3.14, Label = 1\n",
            "Data 93: IPK = 3.86, Label = 0\n",
            "Data 94: IPK = 4.00, Label = 1\n",
            "Data 95: IPK = 4.00, Label = 1\n",
            "Data 96: IPK = 2.85, Label = 0\n",
            "Data 97: IPK = 3.06, Label = 1\n",
            "Data 98: IPK = 3.50, Label = 0\n",
            "Data 99: IPK = 3.93, Label = 1\n",
            "Data 100: IPK = 3.23, Label = 1\n"
          ]
        }
      ]
    },
    {
      "cell_type": "code",
      "source": [
        "# Membagi data menjadi data latih dan data uji\n",
        "X_train, X_test, y_train, y_test = train_test_split(X, y, test_size=0.2, random_state=42)"
      ],
      "metadata": {
        "id": "YOKhfZDwwiYa"
      },
      "execution_count": 166,
      "outputs": []
    },
    {
      "cell_type": "code",
      "source": [
        "X_train"
      ],
      "metadata": {
        "colab": {
          "base_uri": "https://localhost:8080/"
        },
        "id": "xeXMTGvewjvx",
        "outputId": "35264ec3-90a0-4c3f-b820-b1ff8ffece5c"
      },
      "execution_count": 167,
      "outputs": [
        {
          "output_type": "execute_result",
          "data": {
            "text/plain": [
              "array([[3.76234335],\n",
              "       [3.31853445],\n",
              "       [3.359369  ],\n",
              "       [3.92868098],\n",
              "       [3.36467683],\n",
              "       [4.        ],\n",
              "       [3.39979184],\n",
              "       [3.05511585],\n",
              "       [2.83626055],\n",
              "       [3.85396304],\n",
              "       [3.93109686],\n",
              "       [3.68926385],\n",
              "       [3.67521537],\n",
              "       [3.42511668],\n",
              "       [4.        ],\n",
              "       [3.26163393],\n",
              "       [3.51950395],\n",
              "       [4.        ],\n",
              "       [3.6817323 ],\n",
              "       [4.        ],\n",
              "       [2.91607197],\n",
              "       [3.87676084],\n",
              "       [4.        ],\n",
              "       [2.84661329],\n",
              "       [4.        ],\n",
              "       [3.8713927 ],\n",
              "       [2.31327331],\n",
              "       [3.64273468],\n",
              "       [3.87328446],\n",
              "       [3.33271741],\n",
              "       [3.56976574],\n",
              "       [2.76770976],\n",
              "       [3.99388523],\n",
              "       [3.18779142],\n",
              "       [2.8588537 ],\n",
              "       [3.90259452],\n",
              "       [3.10976539],\n",
              "       [3.37711167],\n",
              "       [3.34264476],\n",
              "       [2.21454012],\n",
              "       [3.90783275],\n",
              "       [3.23223221],\n",
              "       [3.54798897],\n",
              "       [2.74690536],\n",
              "       [3.10339169],\n",
              "       [3.39336666],\n",
              "       [3.32057079],\n",
              "       [3.05452269],\n",
              "       [3.51713418],\n",
              "       [3.50263387],\n",
              "       [2.70605758],\n",
              "       [3.87151903],\n",
              "       [3.41772232],\n",
              "       [3.84210768],\n",
              "       [3.93321244],\n",
              "       [3.5257529 ],\n",
              "       [3.20869027],\n",
              "       [2.81550917],\n",
              "       [4.        ],\n",
              "       [3.63909971],\n",
              "       [3.02818121],\n",
              "       [3.40047515],\n",
              "       [4.        ],\n",
              "       [3.84515336],\n",
              "       [3.4845112 ],\n",
              "       [4.        ],\n",
              "       [3.57405791],\n",
              "       [3.18953579],\n",
              "       [3.41964247],\n",
              "       [3.18285946],\n",
              "       [3.14035191],\n",
              "       [4.        ],\n",
              "       [3.47372461],\n",
              "       [3.48444451],\n",
              "       [3.30302207],\n",
              "       [3.54355735],\n",
              "       [3.6259068 ],\n",
              "       [3.00123697],\n",
              "       [3.86426144],\n",
              "       [3.4805823 ]])"
            ]
          },
          "metadata": {},
          "execution_count": 167
        }
      ]
    },
    {
      "cell_type": "code",
      "source": [
        "y_train"
      ],
      "metadata": {
        "colab": {
          "base_uri": "https://localhost:8080/"
        },
        "id": "YFjtbw_AwlDJ",
        "outputId": "04af9055-8554-4ad7-c3ab-ac2a27388b8c"
      },
      "execution_count": 168,
      "outputs": [
        {
          "output_type": "execute_result",
          "data": {
            "text/plain": [
              "array([1, 1, 0, 0, 1, 1, 0, 1, 1, 0, 1, 1, 1, 0, 1, 1, 0, 1, 1, 1, 0, 1,\n",
              "       1, 0, 0, 1, 0, 0, 0, 0, 0, 0, 0, 0, 1, 0, 0, 1, 0, 0, 1, 1, 0, 0,\n",
              "       1, 1, 0, 0, 1, 0, 0, 0, 0, 0, 1, 0, 1, 0, 1, 1, 1, 0, 0, 0, 1, 1,\n",
              "       0, 0, 1, 1, 1, 1, 1, 1, 1, 1, 0, 1, 0, 1])"
            ]
          },
          "metadata": {},
          "execution_count": 168
        }
      ]
    },
    {
      "cell_type": "code",
      "source": [
        "from sklearn.preprocessing import StandardScaler\n",
        "# Inisiasi objek scaler\n",
        "scaler = StandardScaler()\n",
        "\n",
        "# Lakukan scaling pada data train\n",
        "X_train = scaler.fit_transform(X_train)\n",
        "\n",
        "# Gunakan objek scaler yang sama untuk melakukan scaling pada data test\n",
        "X_test = scaler.transform(X_test)"
      ],
      "metadata": {
        "id": "-AqPuDGP9XhU"
      },
      "execution_count": 169,
      "outputs": []
    },
    {
      "cell_type": "code",
      "source": [
        "# Membuat objek model regresi logistik\n",
        "model = LogisticRegression()\n",
        "\n",
        "# Melatih model menggunakan data latih\n",
        "model.fit(X_train, y_train)\n",
        "\n",
        "# Memprediksi nilai target untuk data uji\n",
        "y_pred = model.predict(X_test)\n",
        "\n",
        "# Menghitung metrik evaluasi\n",
        "accuracy = accuracy_score(y_test, y_pred)\n",
        "precision = precision_score(y_test, y_pred)\n",
        "recall = recall_score(y_test, y_pred)\n",
        "f1 = f1_score(y_test, y_pred)\n",
        "# classification_report_str = classification_report(y_test, y_pred)\n",
        "\n",
        "# Menampilkan metrik evaluasi\n",
        "print(\"Accuracy:\", accuracy)\n",
        "print(\"Precision:\", precision)\n",
        "print(\"Recall:\", recall)\n",
        "print(\"F1-Score:\", f1)\n",
        "print(\"Classification Report:\")\n",
        "# print(classification_report_str)"
      ],
      "metadata": {
        "colab": {
          "base_uri": "https://localhost:8080/"
        },
        "id": "dYzFp-dHwwLo",
        "outputId": "ab81c7ad-aa42-4fbf-f07d-b216ce43708e"
      },
      "execution_count": 170,
      "outputs": [
        {
          "output_type": "stream",
          "name": "stdout",
          "text": [
            "Accuracy: 0.6\n",
            "Precision: 0.6428571428571429\n",
            "Recall: 0.75\n",
            "F1-Score: 0.6923076923076924\n",
            "Classification Report:\n"
          ]
        }
      ]
    },
    {
      "cell_type": "code",
      "source": [
        "table = [[\"Metrik\", \"Nilai\"],\n",
        "         [\"Akurasi\", accuracy],\n",
        "         [\"Presisi\", precision],\n",
        "         [\"Recall\", recall],\n",
        "         [\"F1-Score\", f1]]\n",
        "\n",
        "print(tabulate(table, headers=\"firstrow\", tablefmt=\"grid\"))\n",
        "# print(\"\\nClassification Report:\\n\", classification_report)"
      ],
      "metadata": {
        "colab": {
          "base_uri": "https://localhost:8080/"
        },
        "id": "JezqmOE31np0",
        "outputId": "89a99f15-a6c1-4c72-b662-664fcde58ef2"
      },
      "execution_count": 171,
      "outputs": [
        {
          "output_type": "stream",
          "name": "stdout",
          "text": [
            "+----------+----------+\n",
            "| Metrik   |    Nilai |\n",
            "+==========+==========+\n",
            "| Akurasi  | 0.6      |\n",
            "+----------+----------+\n",
            "| Presisi  | 0.642857 |\n",
            "+----------+----------+\n",
            "| Recall   | 0.75     |\n",
            "+----------+----------+\n",
            "| F1-Score | 0.692308 |\n",
            "+----------+----------+\n"
          ]
        }
      ]
    },
    {
      "cell_type": "code",
      "source": [
        "from sklearn.metrics import roc_curve, roc_auc_score\n",
        "import matplotlib.pyplot as plt\n",
        "\n",
        "# Menghitung probabilitas prediksi untuk kelas positif\n",
        "y_pred_prob = model.predict_proba(X_test)[:, 1]\n",
        "\n",
        "# Menghitung nilai fpr (False Positive Rate), tpr (True Positive Rate), dan threshold\n",
        "fpr, tpr, thresholds = roc_curve(y_test, y_pred_prob)\n",
        "\n",
        "# Menghitung nilai AUC (Area Under Curve)\n",
        "auc = roc_auc_score(y_test, y_pred_prob)\n",
        "\n",
        "# Membuat plot ROC Curve\n",
        "plt.plot(fpr, tpr, label='ROC curve (area = %0.2f)' % auc)\n",
        "plt.plot([0, 1], [0, 1], 'k--')\n",
        "plt.xlim([0.0, 1.0])\n",
        "plt.ylim([0.0, 1.05])\n",
        "plt.xlabel('False Positive Rate')\n",
        "plt.ylabel('True Positive Rate')\n",
        "plt.title('Receiver Operating Characteristic (ROC)')\n",
        "plt.legend(loc=\"lower right\")\n",
        "plt.show()\n"
      ],
      "metadata": {
        "colab": {
          "base_uri": "https://localhost:8080/",
          "height": 472
        },
        "id": "2r5vhVL__GFz",
        "outputId": "ad89f265-4939-4dbb-ee48-72dd2775188f"
      },
      "execution_count": 172,
      "outputs": [
        {
          "output_type": "display_data",
          "data": {
            "text/plain": [
              "<Figure size 640x480 with 1 Axes>"
            ],
            "image/png": "[encoded data removed]"
          },
          "metadata": {}
        }
      ]
    },
    {
      "cell_type": "code",
      "source": [
        "from sklearn.metrics import confusion_matrix\n",
        "import seaborn as sns\n",
        "\n",
        "# Menghitung confusion matrix\n",
        "cm = confusion_matrix(y_test, y_pred)\n",
        "\n",
        "# Membuat heatmap confusion matrix\n",
        "sns.heatmap(cm, annot=True, fmt='d', cmap='Blues')\n",
        "plt.title('Confusion Matrix')\n",
        "plt.xlabel('Predicted Label')\n",
        "plt.ylabel('True Label')\n",
        "plt.show()"
      ],
      "metadata": {
        "colab": {
          "base_uri": "https://localhost:8080/",
          "height": 472
        },
        "id": "psZnf131_RDo",
        "outputId": "fedd6ed1-6911-4a1b-cc6e-f8796bfba8aa"
      },
      "execution_count": 173,
      "outputs": [
        {
          "output_type": "display_data",
          "data": {
            "text/plain": [
              "<Figure size 640x480 with 2 Axes>"
            ],
            "image/png": "[encoded data removed]"
          },
          "metadata": {}
        }
      ]
    },
    {
      "cell_type": "markdown",
      "source": [
        "Berdasarkan metrik evaluasi yang diperoleh dari data IPK mahasiswa, kita dapat menyimpulkan hal-hal berikut:\n",
        "\n",
        "Akurasi: Nilai akurasi sebesar 0.6 menunjukkan bahwa model berhasil memprediksi dengan benar sekitar 60% dari data uji.\n",
        "Presisi: Nilai presisi sebesar 0.642857 menunjukkan bahwa sekitar 64% dari prediksi positif yang dibuat oleh model adalah benar.\n",
        "Recall: Nilai recall sebesar 0.75 menunjukkan bahwa sekitar 75% dari keseluruhan data yang seharusnya positif berhasil terdeteksi dengan benar oleh model.\n",
        "F1-Score: Nilai F1-Score sebesar 0.692308 adalah ukuran rata-rata harmonik antara presisi dan recall. Nilai yang mendekati 1 menunjukkan keseimbangan yang baik antara presisi dan recall.\n",
        "Berdasarkan kesimpulan ini, dapat dikatakan bahwa model memiliki tingkat akurasi yang cukup baik dalam memprediksi kategori mahasiswa berdasarkan nilai IPK. Namun, perlu diperhatikan bahwa evaluasi ini hanya berdasarkan pada data IPK yang dihasilkan secara acak dan dengan jumlah sampel yang terbatas. Oleh karena itu, untuk hasil yang lebih reliabel, diperlukan penggunaan data yang lebih representatif dan ukuran sampel yang lebih besar."
      ],
      "metadata": {
        "id": "doaef0U4BTx2"
      }
    }
  ]
}